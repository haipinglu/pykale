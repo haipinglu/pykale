{
 "cells": [
  {
   "cell_type": "code",
   "execution_count": 11,
   "metadata": {},
   "outputs": [
    {
     "name": "stdout",
     "output_type": "stream",
     "text": [
      "Database ID (2 for 4 chamber and 17 for short axis): 2\n",
      "Base directory (e.g. D:/ML_data/PAH): D:/ML_data/PAH \n",
      "Scale (16, 8, 4, or -1):16\n",
      "Mask ID: 5\n",
      "Preprocessing level: 1\n"
     ]
    }
   ],
   "source": [
    "db = int(input('Database ID (2 for 4 chamber and 17 for short axis): '))\n",
    "basedir = input('Base directory (e.g. D:/ML_data/PAH): ')\n",
    "scale = int(input('Scale (16, 8, 4, or -1): '))\n",
    "mask_id = int(input('Mask ID: '))\n",
    "level = int(input('Preprocessing level: '))"
   ]
  },
  {
   "cell_type": "markdown",
   "metadata": {},
   "source": [
    "### Step 0: Converting .mat file to .npy (ndarray) file"
   ]
  },
  {
   "cell_type": "code",
   "execution_count": 1,
   "metadata": {},
   "outputs": [],
   "source": [
    "import os\n",
    "import h5py\n",
    "import numpy as np\n",
    "import pandas as pd\n",
    "\n",
    "\n",
    "def mat2npy(basedir, db):  \n",
    "    fname = 'PAH1DB%s.mat' % db\n",
    "    print('Converting %s to ndarray' % fname)\n",
    "    data_path = os.path.join(basedir, fname)\n",
    "    f = h5py.File(data_path, 'r')\n",
    "\n",
    "    data = f['data'][()].transpose()\n",
    "    out_path = os.path.join(basedir, 'PAH1DB%s.npy' % db)\n",
    "    np.save(out_path, data)\n",
    "    # data_ = torch.from_numpy(data).to_sparse()\n",
    "    # out_path = os.path.join(basedir, 'RegPAH1DB%s.hdf5' % db)\n",
    "    # f = h5py.File(out_path, \"w\")\n",
    "    # dest = f.create_dataset()\n",
    "\n",
    "    labels = f['labels'][()].reshape(-1)\n",
    "    # max_dist = f['maxDists'][()].reshape(-1)\n",
    "    # df = pd.DataFrame(data={'Label': labels, 'Max dist': max_dist})\n",
    "    df = pd.DataFrame(data={'Label': labels})\n",
    "    csv_path = os.path.join(basedir, 'info_DB%s.csv' % db)\n",
    "    df.to_csv(csv_path)\n",
    "    print('Completed!')"
   ]
  },
  {
   "cell_type": "code",
   "execution_count": null,
   "metadata": {},
   "outputs": [],
   "source": [
    "mat2npy(basedir, db)"
   ]
  },
  {
   "cell_type": "markdown",
   "metadata": {},
   "source": [
    "## Step 1: Registration"
   ]
  },
  {
   "cell_type": "code",
   "execution_count": 2,
   "metadata": {},
   "outputs": [],
   "source": [
    "import sys\n",
    "sys.path.append('..')\n",
    "from kale.prepdata.prep_cmr import regMRI\n",
    "\n",
    "def proc_reg(basedir, db):\n",
    "    print('Performing registration...')\n",
    "    data_path = os.path.join(basedir, 'PAH1DB%s.npy' % db)\n",
    "    data = np.load(data_path)\n",
    "    reg_fpath = os.path.join(basedir, 'regMRI4ChFull.xlsx')\n",
    "    # reg_fpath = os.path.join('C:\\GitHub\\PAH\\MatData/regNewFold1.xlsx')\n",
    "    if db == 2:\n",
    "        sheet_name = '4ch'\n",
    "        # sheet_name = 0\n",
    "        col_names = ['ID', 'Group', 'mitral ann X', 'mitral ann Y',\n",
    "                     'LVEDV apex X', 'LVEDV apex Y', 'Spinal X', 'Spinal Y']\n",
    "    elif db == 17:\n",
    "        sheet_name = 'SA'\n",
    "        col_names = ['ID', 'Group', 'inf insertion point X', 'insertion point Y',\n",
    "                     'sup insertion point X', 'sup insertion point Y', 'RV inf X', 'RV inf Y']\n",
    "\n",
    "    reg_file = pd.read_excel(reg_fpath, sheet_name=sheet_name, index_col='ID', usecols=col_names)\n",
    "    data_reg, max_dist = regMRI(data, reg_file)\n",
    "    out_path = os.path.join(basedir, 'RegPAH1DB%s.npy' % db)\n",
    "    np.save(out_path, data_reg)\n",
    "\n",
    "    info_file = os.path.join(basedir, 'info_DB%s.csv' % db)\n",
    "    if os.path.exists(info_file):\n",
    "        info_df = pd.read_csv(info_file, index_col=0)\n",
    "    else:\n",
    "        info_df = pd.DataFrame(data={'Label': reg_file['Group'].values})\n",
    "    info_df['ID'] = reg_file['ID']\n",
    "    info_df['Max Dist'] = max_dist\n",
    "    info_df.to_csv(info_file, columns=['ID', 'Label', 'Max Dist'], index=False)\n",
    "\n",
    "    print('Registration Completed')"
   ]
  },
  {
   "cell_type": "code",
   "execution_count": null,
   "metadata": {},
   "outputs": [],
   "source": [
    "proc_reg(basedir, db)"
   ]
  },
  {
   "cell_type": "markdown",
   "metadata": {},
   "source": [
    "## Step 2: Rescaling"
   ]
  },
  {
   "cell_type": "code",
   "execution_count": 3,
   "metadata": {},
   "outputs": [],
   "source": [
    "import sys\n",
    "sys.path.append('..')\n",
    "from kale.prepdata.prep_cmr import rescale_cmr\n",
    "\n",
    "def proc_rescale(basedir, db, scale=-1):\n",
    "    data_path = os.path.join(basedir, 'RegPAH1DB%s.npy' % db)\n",
    "    data = np.load(data_path)\n",
    "    out_dir = os.path.join(basedir, 'DB%s' % db)\n",
    "    print('Rescaling data ...')\n",
    "    if not os.path.exists(out_dir):\n",
    "        os.mkdir(out_dir)\n",
    "\n",
    "    if scale == -1:\n",
    "        for scale_ in [16, 8, 4]:\n",
    "            print('Scale: 1/%s' % scale_)\n",
    "            data_ = rescale_cmr(data, scale=scale_)\n",
    "            out_path = os.path.join(out_dir, 'NoPrs%sDB%s.npy' % (scale_, db))\n",
    "            np.save(out_path, data_)\n",
    "    else:\n",
    "        print('Scale: 1/%s' % scale)\n",
    "        data_ = rescale_cmr(data, scale=scale)\n",
    "        out_path = os.path.join(out_dir, 'NoPrs%sDB%s.npy' % (scale, db))\n",
    "        np.save(out_path, data_)\n",
    "\n",
    "    print('Completed!')"
   ]
  },
  {
   "cell_type": "code",
   "execution_count": null,
   "metadata": {},
   "outputs": [],
   "source": [
    "proc_rescale(basedir, db, scale)"
   ]
  },
  {
   "cell_type": "markdown",
   "metadata": {},
   "source": [
    "## Step 3: Preprocessing"
   ]
  },
  {
   "cell_type": "code",
   "execution_count": null,
   "metadata": {},
   "outputs": [],
   "source": [
    "import sys\n",
    "sys.path.append('..')\n",
    "from kale.prepdata.prep_cmr import cmr_proc\n",
    "\n",
    "if scale == -1:\n",
    "    for scale_ in [16, 8, 4]:\n",
    "        cmr_proc(basedir, db, scale_, mask_id, level, save_data=True)\n",
    "else:\n",
    "    cmr_proc(basedir, db, scale, mask_id, level, save_data=True)\n"
   ]
  },
  {
   "cell_type": "markdown",
   "metadata": {},
   "source": [
    "# Classification"
   ]
  },
  {
   "cell_type": "code",
   "execution_count": 9,
   "metadata": {},
   "outputs": [],
   "source": [
    "import sys\n",
    "import numpy as np\n",
    "from sklearn.base import BaseEstimator, TransformerMixin\n",
    "from sklearn.pipeline import Pipeline\n",
    "from sklearn.feature_selection import SelectFromModel\n",
    "from sklearn.svm import SVC, LinearSVC\n",
    "from sklearn.linear_model import LogisticRegression, RidgeClassifier, Lasso\n",
    "from sklearn.model_selection import StratifiedShuffleSplit, GridSearchCV\n",
    "\n",
    "\n",
    "default_grid = [\n",
    "    {'select__estimator__C': np.logspace(-2, 2, 5)},\n",
    "    {'clf__C': np.logspace(-3, 2, 6), 'clf__kernel': ['linear']},\n",
    "    {'clf__C': np.logspace(-3, 2, 6), 'clf__gamma': np.logspace(-4, -1, 3),\n",
    "     'clf__kernel': ['rbf']},\n",
    "    ]\n",
    "\n",
    "# clf = Pipeline([\n",
    "#   ('feature_selection', SelectFromModel(LinearSVC(penalty=\"l1\"))),\n",
    "#   ('classification', RandomForestClassifier())\n",
    "# ])\n",
    "\n",
    "\n",
    "class _Classifier(BaseEstimator, TransformerMixin):\n",
    "    def __init__(self, clf='SVC', param_grid=default_grid, cv=None, n_split=10, test_size=0.2, n_jobs=1):\n",
    "        if clf == 'SVC':\n",
    "            # _clf = Pipeline([('select', SelectFromModel(LinearSVC(penalty='l1', loss='hinge'))),\n",
    "            _clf = Pipeline([('select', SelectFromModel(estimator=LogisticRegression(penalty='l1', solver='liblinear'))),\n",
    "                             ('clf', SVC(max_iter=10000))])\n",
    "        elif clf == 'LR':\n",
    "            _clf = Pipeline([('select', SelectFromModel(Lasso())),\n",
    "                             ('clf', LogisticRegression(max_iter=10000))])\n",
    "        elif clf == 'Ridge':\n",
    "            _clf = Pipeline([('select', SelectFromModel(Lasso())),\n",
    "                             ('clf', RidgeClassifier(max_iter=10000))])\n",
    "        else:\n",
    "            print('Invalid Classifier')\n",
    "            sys.exit()\n",
    "        \n",
    "        print(param_grid)\n",
    "        if cv is None:\n",
    "            cv = StratifiedShuffleSplit(n_splits=n_split, test_size=test_size,\n",
    "                                        train_size=1 - test_size, random_state=144)\n",
    "        self.search = GridSearchCV(_clf, param_grid, n_jobs=n_jobs, cv=cv, iid=False)\n",
    "\n",
    "    def fit(self, X, y):\n",
    "        self.search.fit(X, y)\n",
    "        self.clf = self.search.best_estimator_\n",
    "        self.clf.fit(X, y)\n",
    "\n",
    "        return self\n",
    "\n",
    "    def predict(self, X):\n",
    "        return self.clf.predict(X)"
   ]
  },
  {
   "cell_type": "code",
   "execution_count": 10,
   "metadata": {},
   "outputs": [],
   "source": [
    "from sklearn.model_selection import StratifiedKFold\n",
    "from sklearn.metrics import accuracy_score, roc_auc_score\n",
    "from tensorly.base import fold, unfold\n",
    "\n",
    "\n",
    "def label_binarizer(y):\n",
    "    y_ = np.zeros(y.shape)\n",
    "    y_[np.where(y != 0)] = 1\n",
    "    return y_\n",
    "\n",
    "\n",
    "def evaluate_(X, y, kfold=10, random_state=144, return_auc=True):\n",
    "    skf = StratifiedKFold(n_splits=kfold, random_state=random_state)\n",
    "    res = {'fold_accs': [], 'fold_aucs': [], 'acc': None,'auc': None}\n",
    "    y_pred = np.zeros(y.shape)\n",
    "    y_dec = np.zeros(y.shape)\n",
    "    for train, test in skf.split(X, y):\n",
    "        clf = _Classifier()\n",
    "        clf.fit(X[train], y[train])\n",
    "        y_pred[test] = clf.predict(X[test])\n",
    "        res['fold_accs'].append(accuracy_score(y[test], y_pred[test]))\n",
    "        if return_auc:\n",
    "            y_dec[test] = clf.decision_function(X[test])\n",
    "            res['fold_aucs'].append(roc_auc_score(y[test], y_dec[test]))\n",
    "    res['acc'] = accuracy_score(y, y_pred)\n",
    "    if return_auc:\n",
    "        res['auc'] = roc_auc_score(y, y_dec)\n",
    "\n",
    "    return res"
   ]
  },
  {
   "cell_type": "code",
   "execution_count": null,
   "metadata": {},
   "outputs": [],
   "source": [
    "from kale.embed.mpca import MPCA\n",
    "\n",
    "print('Main Experiemnts for Scale: 1/%s, Mask ID: %s, Processing level: %s' % (scale, mask_id, level))\n",
    "data_path = '%s/DB%s/PrepData' % (basedir, db)\n",
    "fname = 'PrS%sM%sL%sDB%s.npy' % (scale, mask_id, level, db)\n",
    "X = np.load(os.path.join(data_path, fname))\n",
    "info_df = pd.read_csv(os.path.join(basedir, 'info_DB%s.csv' % db))\n",
    "y = info_df['Label'].values\n",
    "y_ = label_binarizer(y)\n",
    "\n",
    "# Peform MPCA dimension reduction\n",
    "mpca = MPCA()\n",
    "mpca.fit(X)\n",
    "Xmpc = mpca.transform(X)\n",
    "X_ = unfold(Xmpc, mode=-1).real\n",
    "\n",
    "# Evaluating \n",
    "res = evaluate_(X_, y_)\n",
    "\n",
    "print('Accuracy:', res['acc'], 'AUC:', res['auc'])\n"
   ]
  }
 ],
 "metadata": {
  "kernelspec": {
   "display_name": "Python 3",
   "language": "python",
   "name": "python3"
  },
  "language_info": {
   "codemirror_mode": {
    "name": "ipython",
    "version": 3
   },
   "file_extension": ".py",
   "mimetype": "text/x-python",
   "name": "python",
   "nbconvert_exporter": "python",
   "pygments_lexer": "ipython3",
   "version": "3.7.3"
  }
 },
 "nbformat": 4,
 "nbformat_minor": 4
}
