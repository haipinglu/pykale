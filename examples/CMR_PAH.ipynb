{
 "cells": [
  {
   "cell_type": "code",
   "execution_count": 13,
   "metadata": {},
   "outputs": [],
   "source": [
    "# db = int(input('Database ID (2 for 4 chamber and 17 for short axis): '))\n",
    "# basedir = input('Base directory (e.g. D:/ML_data/PAH): ')\n",
    "# scale = int(input('Scale (16, 8, 4, or -1): '))\n",
    "# mask_id = int(input('Mask ID (1-5): '))\n",
    "# level = int(input('Preprocessing level (1-4): '))"
   ]
  },
  {
   "cell_type": "code",
   "execution_count": 1,
   "metadata": {},
   "outputs": [],
   "source": [
    "import os\n",
    "import h5py\n",
    "import numpy as np\n",
    "import pandas as pd"
   ]
  },
  {
   "cell_type": "code",
   "execution_count": 50,
   "metadata": {},
   "outputs": [],
   "source": [
    "def check_dir(dir_):\n",
    "    if not os.path.exists(dir_):\n",
    "        os.mkdir(dir_)"
   ]
  },
  {
   "cell_type": "markdown",
   "metadata": {},
   "source": [
    "### Step 0: Converting .mat file to .npy (ndarray) file"
   ]
  },
  {
   "cell_type": "code",
   "execution_count": 2,
   "metadata": {},
   "outputs": [],
   "source": [
    "def mat2npy(data_path, db, out_dir):  \n",
    "#     fname = 'PAH1DB%s.mat' % db\n",
    "    print('Converting data to ndarray')\n",
    "#     data_path = os.path.join(basedir, fname)\n",
    "    f = h5py.File(data_path, 'r')\n",
    "\n",
    "    data = f['data'][()].transpose()\n",
    "    check_dir(out_dir)\n",
    "    out_path = os.path.join(out_dir, 'PAH1DB%s.npy' % db)\n",
    "    np.save(out_path, data)\n",
    "    # data_ = torch.from_numpy(data).to_sparse()\n",
    "    # out_path = os.path.join(basedir, 'RegPAH1DB%s.hdf5' % db)\n",
    "    # f = h5py.File(out_path, \"w\")\n",
    "    # dest = f.create_dataset()\n",
    "\n",
    "    labels = f['labels'][()].reshape(-1)\n",
    "    # max_dist = f['maxDists'][()].reshape(-1)\n",
    "    # df = pd.DataFrame(data={'Label': labels, 'Max dist': max_dist})\n",
    "    df = pd.DataFrame(data={'Label': labels})\n",
    "    csv_path = os.path.join(out_dir, 'info_DB%s.csv' % db)\n",
    "    df.to_csv(csv_path)\n",
    "    print('Completed!')"
   ]
  },
  {
   "cell_type": "code",
   "execution_count": 3,
   "metadata": {},
   "outputs": [
    {
     "name": "stdout",
     "output_type": "stream",
     "text": [
      "Data full path (e.g. D:/ML_data/PAH/PAH1DB2.mat): D:/ML_data/PAH/PAH1DB2.mat\n",
      "Where to save the output (e.g. D:/ML_data/PAH): D:/ML_data/PAH\n"
     ]
    },
    {
     "data": {
      "application/vnd.jupyter.widget-view+json": {
       "model_id": "453c67da4d14487fa75ed4535f1605f1",
       "version_major": 2,
       "version_minor": 0
      },
      "text/plain": [
       "interactive(children=(Text(value='D:/ML_data/PAH/PAH1DB2.mat', description='data_path'), Dropdown(description=…"
      ]
     },
     "metadata": {},
     "output_type": "display_data"
    },
    {
     "data": {
      "text/plain": [
       "<function __main__.mat2npy(data_path, db, out_dir)>"
      ]
     },
     "execution_count": 3,
     "metadata": {},
     "output_type": "execute_result"
    }
   ],
   "source": [
    "from ipywidgets import interact, interactive, fixed, interact_manual\n",
    "import ipywidgets as widgets\n",
    "\n",
    "interact_manual(mat2npy, db=widgets.Dropdown(\n",
    "    options=[('Four chamber', 2), ('Short axis',17)],\n",
    "    value=2,\n",
    "    description='Database',\n",
    "    disabled=False,\n",
    "), \n",
    "                data_path = input('Data full path (e.g. D:/ML_data/PAH/PAH1DB2.mat): '), \n",
    "                out_dir = input('Where to save the output (e.g. D:/ML_data/PAH): '))\n"
   ]
  },
  {
   "cell_type": "markdown",
   "metadata": {},
   "source": [
    "## Step 1: Registration"
   ]
  },
  {
   "cell_type": "code",
   "execution_count": 4,
   "metadata": {},
   "outputs": [],
   "source": [
    "# def load_data(basedir, db):\n",
    "#     data_path = os.path.join(basedir, 'PAH1DB%s.npy' % db)\n",
    "#     data = np.load(data_path)\n",
    "#     return data\n",
    "\n",
    "def load_landmark(reg_fpath, db):\n",
    "#     reg_fpath = os.path.join(basedir, 'regMRI4ChFull.xlsx')\n",
    "    if db == 2:\n",
    "        sheet_name = '4ch'\n",
    "        # sheet_name = 0\n",
    "        col_names = ['ID', 'Group', 'mitral ann X', 'mitral ann Y',\n",
    "                     'LVEDV apex X', 'LVEDV apex Y', 'Spinal X', 'Spinal Y']\n",
    "    elif db == 17:\n",
    "        sheet_name = 'SA'\n",
    "        col_names = ['ID', 'Group', 'inf insertion point X', 'insertion point Y',\n",
    "                     'sup insertion point X', 'sup insertion point Y', 'RV inf X', 'RV inf Y']\n",
    "\n",
    "    reg_df = pd.read_excel(reg_fpath, sheet_name=sheet_name, usecols=col_names)\n",
    "    \n",
    "    return reg_df"
   ]
  },
  {
   "cell_type": "code",
   "execution_count": 8,
   "metadata": {},
   "outputs": [],
   "source": [
    "import sys\n",
    "sys.path.append('..')\n",
    "from kale.prepdata.prep_cmr import regMRI\n",
    "\n",
    "def proc_reg(db, data_path, regf_path, out_dir, sample_id=1007):\n",
    "    print('Performing registration...')\n",
    "#     data = load_data(basedir, db)\n",
    "    data = np.load(data_path)\n",
    "    reg_df = load_landmark(regf_path, db)\n",
    "\n",
    "    reg_id = np.where(reg_df['ID'] == sample_id)[0][0]\n",
    "    data_reg, max_dist = regMRI(data, reg_df, reg_id)\n",
    "    check_dir(out_dir)\n",
    "    out_path = os.path.join(out_dir, 'RegPAH1DB%s.npy' % db)\n",
    "    np.save(out_path, data_reg)\n",
    "\n",
    "    info_file = os.path.join(out_dir, 'info_DB%s.csv' % db)\n",
    "    if os.path.exists(info_file):\n",
    "        info_df = pd.read_csv(info_file, index_col=0)\n",
    "    else:\n",
    "        info_df = pd.DataFrame(data={'Label': reg_df['Group'].values})\n",
    "    info_df['ID'] = reg_df['ID']\n",
    "    info_df['Max Dist'] = max_dist\n",
    "    info_df.to_csv(info_file, columns=['ID', 'Label', 'Max Dist'], index=False)\n",
    "\n",
    "    print('Registration Completed')"
   ]
  },
  {
   "cell_type": "code",
   "execution_count": 9,
   "metadata": {},
   "outputs": [
    {
     "name": "stdout",
     "output_type": "stream",
     "text": [
      "Data full path (e.g. D:/ML_data/PAH/PAH1DB2.npy): D:/ML_data/PAH/PAH1DB2.npy\n",
      "Registration file full path (e.g. D:/ML_data/PAH/regMRI4ChFull.xlsx): D:/ML_data/PAH/regMRI4ChFull.xlsx\n",
      "Where to save the output (e.g. D:/ML_data/PAH/DB2): \n",
      "Target sample ID used for regisitration (1007): 1007\n"
     ]
    },
    {
     "data": {
      "application/vnd.jupyter.widget-view+json": {
       "model_id": "c84fc7ec2403449ebdd0db745e70d46c",
       "version_major": 2,
       "version_minor": 0
      },
      "text/plain": [
       "interactive(children=(Dropdown(description='Database', options=(('Four chamber (2)', 2), ('Short axis (17)', 1…"
      ]
     },
     "metadata": {},
     "output_type": "display_data"
    },
    {
     "data": {
      "text/plain": [
       "<function __main__.proc_reg(db, data_path, regf_path, out_dir, sample_id=1007)>"
      ]
     },
     "execution_count": 9,
     "metadata": {},
     "output_type": "execute_result"
    }
   ],
   "source": [
    "from ipywidgets import interact_manual\n",
    "import ipywidgets as widgets\n",
    "\n",
    "interact_manual(proc_reg, db=widgets.Dropdown(\n",
    "    options=[('Four chamber (2)', 2), ('Short axis (17)',17)],\n",
    "    value=2,\n",
    "    description='Database',\n",
    "    disabled=False,), \n",
    "                data_path = input('Data full path (e.g. D:/ML_data/PAH/PAH1DB2.npy): '), \n",
    "                regf_path = input('Registration file full path (e.g. D:/ML_data/PAH/regMRI4ChFull.xlsx): '), \n",
    "                out_dir = input('Where to save the output (e.g. D:/ML_data/PAH/DB2): '),\n",
    "                sample_id=int(input('Target sample ID used for regisitration (1007): '))\n",
    "               )"
   ]
  },
  {
   "cell_type": "markdown",
   "metadata": {},
   "source": [
    "## Step 2: Rescaling"
   ]
  },
  {
   "cell_type": "code",
   "execution_count": 10,
   "metadata": {},
   "outputs": [],
   "source": [
    "import sys\n",
    "sys.path.append('..')\n",
    "from kale.prepdata.prep_cmr import rescale_cmr\n",
    "\n",
    "def proc_rescale(db, data_path, out_dir, scale=-1):\n",
    "#     data_path = os.path.join(basedir, 'RegPAH1DB%s.npy' % db)\n",
    "    data = np.load(data_path)\n",
    "#     out_dir = os.path.join(basedir, 'DB%s' % db)\n",
    "    print('Rescaling data ...')\n",
    "    check_dir(out_dir)\n",
    "\n",
    "    if scale == -1:\n",
    "        for scale_ in [16, 8, 4]:\n",
    "            print('Scale: 1/%s' % scale_)\n",
    "            data_ = rescale_cmr(data, scale=scale_)\n",
    "            out_path = os.path.join(out_dir, 'NoPrs%sDB%s.npy' % (scale_, db))\n",
    "            np.save(out_path, data_)\n",
    "    else:\n",
    "        print('Scale: 1/%s' % scale)\n",
    "        data_ = rescale_cmr(data, scale=scale)\n",
    "        out_path = os.path.join(out_dir, 'NoPrs%sDB%s.npy' % (scale, db))\n",
    "        np.save(out_path, data_)\n",
    "\n",
    "    print('Completed!')"
   ]
  },
  {
   "cell_type": "code",
   "execution_count": 11,
   "metadata": {},
   "outputs": [
    {
     "name": "stdout",
     "output_type": "stream",
     "text": [
      "Data full path (e.g. D:/ML_data/PAH/DB2/RegPAH1DB2.npy): D:/ML_data/PAH/DB2/RegPAH1DB2.npy\n",
      "Where to save the output (e.g. D:/ML_data/PAH/DB2): D:/ML_data/PAH/DB2\n"
     ]
    },
    {
     "data": {
      "application/vnd.jupyter.widget-view+json": {
       "model_id": "8688d049b55940b5a5abcfaa4f5d1723",
       "version_major": 2,
       "version_minor": 0
      },
      "text/plain": [
       "interactive(children=(Dropdown(description='Database', options=(('Four chamber (2)', 2), ('Short axis (17)', 1…"
      ]
     },
     "metadata": {},
     "output_type": "display_data"
    },
    {
     "data": {
      "text/plain": [
       "<function __main__.proc_rescale(db, data_path, out_dir, scale=-1)>"
      ]
     },
     "execution_count": 11,
     "metadata": {},
     "output_type": "execute_result"
    }
   ],
   "source": [
    "from ipywidgets import interact_manual\n",
    "import ipywidgets as widgets\n",
    "\n",
    "interact_manual(proc_rescale, db=widgets.Dropdown(\n",
    "    options=[('Four chamber (2)', 2), ('Short axis (17)',17)],\n",
    "    value=2,\n",
    "    description='Database',\n",
    "    disabled=False,), \n",
    "                data_path = input('Data full path (e.g. D:/ML_data/PAH/DB2/RegPAH1DB2.npy): '), \n",
    "                out_dir = input('Where to save the output (e.g. D:/ML_data/PAH/DB2): '),\n",
    "                scale = widgets.Dropdown(\n",
    "                    options=[('16', 16), ('8', 8), ('4', 4), ('-1 (All of above)', -1)],\n",
    "                    value=4,\n",
    "                    description='Scale',\n",
    "                    disabled=False,)\n",
    "        )"
   ]
  },
  {
   "cell_type": "markdown",
   "metadata": {},
   "source": [
    "## Step 3: Preprocessing"
   ]
  },
  {
   "cell_type": "code",
   "execution_count": 17,
   "metadata": {},
   "outputs": [
    {
     "name": "stdout",
     "output_type": "stream",
     "text": [
      "Data full path (e.g. D:/ML_data/PAH/DB2/NoPrs4DB2.npy): D:/ML_data/PAH/DB2/NoPrs4DB2.npy\n",
      "Registration file full path (e.g. D:/ML_data/PAH/Prep/AllMasks.mat): D:/ML_data/PAH/Prep/AllMasks.mat\n",
      "Where to save the output (e.g. D:/ML_data/PAH/DB2/PrepData): D:/ML_data/PAH/DB2/PrepData\n"
     ]
    },
    {
     "data": {
      "application/vnd.jupyter.widget-view+json": {
       "model_id": "546192f1e9204af48c085fcb23023c0f",
       "version_major": 2,
       "version_minor": 0
      },
      "text/plain": [
       "interactive(children=(Dropdown(description='Database', options=(('Four chamber (2)', 2), ('Short axis (17)', 1…"
      ]
     },
     "metadata": {},
     "output_type": "display_data"
    },
    {
     "data": {
      "text/plain": [
       "<function __main__.preproc_(db, data_path, scale, mask_path, mask_id, out_dir, level=1)>"
      ]
     },
     "execution_count": 17,
     "metadata": {},
     "output_type": "execute_result"
    }
   ],
   "source": [
    "import sys\n",
    "sys.path.append('..')\n",
    "from kale.prepdata.prep_cmr import cmr_proc\n",
    "\n",
    "\n",
    "def preproc_(db, data_path, scale, mask_path, mask_id, out_dir, level=1):\n",
    "    print('Preprocessing data ...')\n",
    "#     print('db:', db, type(db))\n",
    "#     print('scale:', scale, type(scale))\n",
    "#     print('maskid:', mask_id, type(mask_id))\n",
    "#     print('level:', level, type(level))\n",
    "    fname = 'PrS%sM%sL%sDB%s.npy' % (scale, mask_id, level, db)\n",
    "#     print(fname)\n",
    "    data_proc = cmr_proc(data_path, db, scale, mask_path, mask_id, level)\n",
    "    out_path = os.path.join(out_dir, )\n",
    "    np.save(out_path, data_proc)\n",
    "    print('Completed')\n",
    "\n",
    "\n",
    "interact_manual(preproc_, db=widgets.Dropdown(\n",
    "    options=[('Four chamber (2)', 2), ('Short axis (17)',17)],\n",
    "    value=2,\n",
    "    description='Database',\n",
    "    disabled=False,), \n",
    "                data_path = input('Data full path (e.g. D:/ML_data/PAH/DB2/NoPrs4DB2.npy): '), \n",
    "                scale=widgets.Dropdown(\n",
    "                    options=[('16', 16), ('8', 8), ('4', 4), ('-1 (All of above)', -1)],\n",
    "                    value=4,\n",
    "                    description='Scale',\n",
    "                    disabled=False,),\n",
    "                mask_path = input('Registration file full path (e.g. D:/ML_data/PAH/Prep/AllMasks.mat): '), \n",
    "                mask_id=widgets.Dropdown(\n",
    "                    options=[('1', 1), ('2', 2), ('3', 3), ('4', 4), ('5', 5), ('6', 6), ('7', 7), ('8', 8)],\n",
    "                    value=5,\n",
    "                    description='Mask ID:',\n",
    "                    disabled=False,),\n",
    "                out_dir = input('Where to save the output (e.g. D:/ML_data/PAH/DB2/PrepData): '),\n",
    "                level=widgets.Dropdown(\n",
    "                    options=[('1', 1), ('2', 2), ('3', 3), ('4', 4)],\n",
    "                    value=1,\n",
    "                    description='Preprocssing level:',\n",
    "                    disabled=False,),)"
   ]
  },
  {
   "cell_type": "markdown",
   "metadata": {},
   "source": [
    "# Classification"
   ]
  },
  {
   "cell_type": "code",
   "execution_count": 38,
   "metadata": {},
   "outputs": [],
   "source": [
    "import sys\n",
    "import numpy as np\n",
    "from sklearn.discriminant_analysis import LinearDiscriminantAnalysis as LDA\n",
    "from sklearn.base import BaseEstimator, TransformerMixin\n",
    "from sklearn.pipeline import Pipeline\n",
    "from sklearn.feature_selection import SelectFromModel\n",
    "from sklearn.svm import SVC, LinearSVC\n",
    "from sklearn.linear_model import LogisticRegression, RidgeClassifier, Lasso\n",
    "from sklearn.model_selection import StratifiedShuffleSplit, GridSearchCV\n",
    "from sklearn.preprocessing import StandardScaler\n",
    "\n",
    "\n",
    "# default_grid = [\n",
    "#     {'select__estimator__C': np.logspace(-2, 2, 5)},\n",
    "#     {'clf__C': np.logspace(-3, 2, 6), 'clf__kernel': ['linear']},\n",
    "#     {'clf__C': np.logspace(-3, 2, 6), 'clf__gamma': np.logspace(-4, -1, 3),\n",
    "#      'clf__kernel': ['rbf']},\n",
    "#     ]\n",
    "class Linear_clf(BaseEstimator, TransformerMixin):\n",
    "    def __init__(self, clf='SVC', n_feat=None, cv=None, n_split=10, test_size=0.2, normalise=True, n_jobs=1):\n",
    "        param_grids = {'SVC': {'clf__C': np.logspace(-3, 2, 6), 'clf__kernel': ['linear']},\n",
    "                       'LR': {'clf__C': np.logspace(-3, 2, 6)},\n",
    "                       'Ridge': {'clf__alpha': np.logspace(-3, 2, 6)}}\n",
    "        self.scaler = StandardScaler()\n",
    "        self.lda = LDA()\n",
    "        self.param_grid = param_grids[clf]\n",
    "        if clf == 'SVC':\n",
    "#             _clf = Pipeline([('select', SelectFromModel(estimator=LogisticRegression(penalty='l1', solver='liblinear'))),\n",
    "#                              ('clf', SVC(max_iter=10000, probability=True))])\n",
    "            _clf = Pipeline([('clf', SVC(probability=True, max_iter=10000))])\n",
    "        elif clf == 'LR':\n",
    "            _clf = Pipeline([('clf', LogisticRegression(max_iter=10000))])\n",
    "        elif clf == 'Ridge':\n",
    "            _clf = Pipeline([  # ('scaler', StandardScaler()),\n",
    "                             ('clf', RidgeClassifier(probability=True, max_iter=10000))])\n",
    "        else:\n",
    "            print('Invalid Classifier')\n",
    "            sys.exit()\n",
    "        self.n_feat = n_feat\n",
    "        self.normalise = normalise\n",
    "        if cv is None:\n",
    "            cv = StratifiedShuffleSplit(n_splits=n_split, test_size=test_size,\n",
    "                                        train_size=1 - test_size, random_state=144)\n",
    "#         self.search = GridSearchCV(_clf, param_grid, n_jobs=n_jobs, cv=cv, iid=False)\n",
    "        self.search = GridSearchCV(_clf, self.param_grid, n_jobs=n_jobs, cv=cv)\n",
    "\n",
    "    def fit(self, X, y):\n",
    "        if self.normalise:\n",
    "            X = self.scaler.fit_transform(X)\n",
    "        if self.n_feat is not None:\n",
    "            self.lda.fit(X, y)\n",
    "            self.feat_idx = np.abs(arr).argsort()[-self.n_feat:][::-1]  # indices of features with top n_feat fisher coefficients\n",
    "            X = X[:, self.feat_idx]\n",
    "        self.search.fit(X, y)\n",
    "        self.clf = self.search.best_estimator_\n",
    "        self.clf.fit(X, y)\n",
    "\n",
    "        return self\n",
    "\n",
    "    def predict(self, X):\n",
    "        self.normlise_select(X)\n",
    "        return self.clf.predict(X)\n",
    "    \n",
    "    def predict_proba(self, X):\n",
    "        self.normlise_select(X)\n",
    "        return self.clf.predict_proba(X)\n",
    "    \n",
    "    def normlise_select(self, X):\n",
    "        if self.normalise:\n",
    "            X = self.scaler.transform(X)\n",
    "        if self.n_feat is not None:\n",
    "            X = X[:, self.feat_idx]\n",
    "        \n",
    "        return X"
   ]
  },
  {
   "cell_type": "code",
   "execution_count": 31,
   "metadata": {},
   "outputs": [],
   "source": [
    "from sklearn.model_selection import StratifiedKFold\n",
    "from sklearn.metrics import accuracy_score, roc_auc_score\n",
    "from tensorly.base import fold, unfold\n",
    "\n",
    "\n",
    "def label_binarizer(y):\n",
    "    y_ = np.zeros(y.shape)\n",
    "    y_[np.where(y != 0)] = 1\n",
    "    return y_\n",
    "\n",
    "\n",
    "def evaluate_(X, y, kfold=10, random_state=144, return_auc=True):\n",
    "    skf = StratifiedKFold(n_splits=kfold, random_state=random_state)\n",
    "    res = {'fold_accs': [], 'fold_aucs': [], 'acc': None,'auc': None}\n",
    "    y_pred = np.zeros(y.shape)\n",
    "    y_dec = np.zeros(y.shape)\n",
    "    for train, test in skf.split(X, y):\n",
    "        clf = Linear_clf()\n",
    "        clf.fit(X[train], y[train])\n",
    "        y_pred[test] = clf.predict(X[test])\n",
    "        res['fold_accs'].append(accuracy_score(y[test], y_pred[test]))\n",
    "        if return_auc:\n",
    "            y_dec[test] = clf.predict_proba(X[test])[:, 1]\n",
    "            res['fold_aucs'].append(roc_auc_score(y[test], y_dec[test]))\n",
    "    res['acc'] = accuracy_score(y, y_pred)\n",
    "    if return_auc:\n",
    "        res['auc'] = roc_auc_score(y, y_dec)\n",
    "\n",
    "    return res"
   ]
  },
  {
   "cell_type": "code",
   "execution_count": 32,
   "metadata": {},
   "outputs": [],
   "source": [
    "import sys\n",
    "# sys.path.append('...')\n",
    "from kale.embed.mpca import MPCA\n",
    "\n",
    "def main_(db, data_path, label_path, scale, mask_id, level):\n",
    "    print('Main Experiemnts for Scale: 1/%s, Mask ID: %s, Processing level: %s' % (scale, mask_id, level))\n",
    "#     data_path = '%s/DB%s/PrepData' % (basedir, db)\n",
    "#     fname = 'PrS%sM%sL%sDB%s.npy' % (scale, mask_id, level, db)\n",
    "#     X = np.load(os.path.join(data_path, fname))\n",
    "    X = np.load(data_path)\n",
    "#     info_df = pd.read_csv(os.path.join(basedir, 'info_DB%s.csv' % db))\n",
    "    info_df = pd.read_csv(label_path)\n",
    "    y = info_df['Label'].values\n",
    "    y_ = label_binarizer(y)\n",
    "\n",
    "    # Peform MPCA dimension reduction\n",
    "    mpca = MPCA()\n",
    "    mpca.fit(X)\n",
    "    Xmpc = mpca.transform(X)\n",
    "    X_ = unfold(Xmpc, mode=-1).real\n",
    "\n",
    "    # Evaluating \n",
    "    res = evaluate_(X_, y_)\n",
    "\n",
    "    print('Accuracy:', res['acc'], 'AUC:', res['auc'])"
   ]
  },
  {
   "cell_type": "code",
   "execution_count": 39,
   "metadata": {},
   "outputs": [
    {
     "name": "stdout",
     "output_type": "stream",
     "text": [
      "Data full path (e.g. D:/ML_data/PAH/DB2/PrepData/PrS4M5L1DB2.npy): D:/ML_data/PAH/DB2/PrepData/PrS4M5L1DB2.npy\n",
      "Label file full path (e.g. D:/ML_data/PAH/info_DB2.csv)D:/ML_data/PAH/info_DB2.csv\n"
     ]
    },
    {
     "data": {
      "application/vnd.jupyter.widget-view+json": {
       "model_id": "f30996f479694a52bd4ae33fb545a0e7",
       "version_major": 2,
       "version_minor": 0
      },
      "text/plain": [
       "interactive(children=(Dropdown(description='Database', options=(('Four chamber (2)', 2), ('Short axis (17)', 1…"
      ]
     },
     "metadata": {},
     "output_type": "display_data"
    },
    {
     "data": {
      "text/plain": [
       "<function __main__.main_(db, data_path, label_path, scale, mask_id, level)>"
      ]
     },
     "execution_count": 39,
     "metadata": {},
     "output_type": "execute_result"
    }
   ],
   "source": [
    "from ipywidgets import interact_manual\n",
    "import ipywidgets as widgets\n",
    "\n",
    "interact_manual(main_, db=widgets.Dropdown(\n",
    "    options=[('Four chamber (2)', 2), ('Short axis (17)',17)],\n",
    "    value=2,\n",
    "    description='Database',\n",
    "    disabled=False,), \n",
    "                data_path = input('Data full path (e.g. D:/ML_data/PAH/DB2/PrepData/PrS4M5L1DB2.npy): '), \n",
    "                label_path = input('Label file full path (e.g. D:/ML_data/PAH/info_DB2.csv)'),\n",
    "                scale=widgets.Dropdown(\n",
    "                    options=[('16', 16), ('8', 8), ('4', 4), ('-1 (All of above)', -1)],\n",
    "                    value=4,\n",
    "                    description='Scale',\n",
    "                    disabled=False,),\n",
    "                mask_id=widgets.Dropdown(\n",
    "                    options=[('1', 1), ('2', 2), ('3', 3), ('4', 4), ('5', 5), ('6', 6), ('7', 7), ('8', 8)],\n",
    "                    value=5,\n",
    "                    description='Mask ID:',\n",
    "                    disabled=False,),\n",
    "                level=widgets.Dropdown(\n",
    "                    options=[('1', 1), ('2', 2), ('3', 3), ('4', 4)],\n",
    "                    value=1,\n",
    "                    description='Prep level:',\n",
    "                    disabled=False,),\n",
    "               )"
   ]
  },
  {
   "cell_type": "markdown",
   "metadata": {},
   "source": [
    "## Landmark Visulaisation"
   ]
  },
  {
   "cell_type": "code",
   "execution_count": 40,
   "metadata": {},
   "outputs": [],
   "source": [
    "import tkinter\n",
    "\n",
    "from matplotlib.backends.backend_tkagg import (\n",
    "    FigureCanvasTkAgg, NavigationToolbar2Tk)\n",
    "# Implement the default Matplotlib key bindings.\n",
    "from matplotlib.backend_bases import key_press_handler\n",
    "from matplotlib.figure import Figure\n",
    "import matplotlib.image as mpimg\n",
    "import matplotlib.pyplot as plt\n",
    "import numpy as np"
   ]
  },
  {
   "cell_type": "code",
   "execution_count": 41,
   "metadata": {},
   "outputs": [],
   "source": [
    "def sub_img_mark(db, data_path, regf_path, sub, slice_):\n",
    "#     data = load_data(basedir, db)\n",
    "    data = np.load(data_path)\n",
    "    reg_df = load_landmark(regf_path, db)\n",
    "    \n",
    "    sub_idx = np.where(reg_df['ID'] == sub)[0][0]\n",
    "    sub_img = data[..., slice_, sub_idx]\n",
    "    land_marks = reg_df.iloc[sub_idx, 2:]\n",
    "    \n",
    "    return sub_img, land_marks"
   ]
  },
  {
   "cell_type": "markdown",
   "metadata": {},
   "source": [
    "### Display landmarks"
   ]
  },
  {
   "cell_type": "code",
   "execution_count": 42,
   "metadata": {},
   "outputs": [],
   "source": [
    "def disp_mark(db, data_path, regf_path, sub, slice_):\n",
    "    sub_img, land_marks = sub_img_mark(db, data_path, regf_path, sub, slice_)\n",
    "    marks = land_marks.values.reshape((-1, 2))\n",
    "    mark_name = land_marks.index.values.reshape((-1, 2))\n",
    "    n_marks = marks.shape[0]\n",
    "    \n",
    "    root = tkinter.Tk()\n",
    "    root.wm_title(\"Subject %s Slice %s\" % (sub, slice_))\n",
    "\n",
    "    root.image = sub_img\n",
    "    fig = plt.figure(figsize=(8, 5))\n",
    "    ax = fig.add_subplot(111)\n",
    "    im = ax.imshow(root.image)\n",
    "    for i in range(n_marks):\n",
    "        ix = marks[i, 0]\n",
    "        iy = marks[i, 1]\n",
    "        print('%s: %s, %s: %s' % (mark_name[i, 0], ix, mark_name[i, 1], iy))\n",
    "        ax.plot(ix,iy, marker='o', markersize=8, markerfacecolor=(1, 1, 1, 0.1),markeredgewidth=1.5, markeredgecolor='r')\n",
    "    plt.show()\n",
    "#     canvas = FigureCanvasTkAgg(fig, master=root)  \n",
    "#     canvas.draw()\n",
    "#     canvas.get_tk_widget().pack(side=tkinter.TOP, fill=tkinter.BOTH, expand=1)\n",
    "\n",
    "#     toolbar = NavigationToolbar2Tk(canvas, root)\n",
    "#     toolbar.update()\n",
    "#     canvas.get_tk_widget().pack(side=tkinter.TOP, fill=tkinter.BOTH, expand=1)"
   ]
  },
  {
   "cell_type": "code",
   "execution_count": 43,
   "metadata": {},
   "outputs": [
    {
     "name": "stdout",
     "output_type": "stream",
     "text": [
      "Data full path (e.g. D:/ML_data/PAH/PAH1DB2.npy): D:/ML_data/PAH/PAH1DB2.npy\n",
      "Registration file full path (e.g. D:/ML_data/PAH/regMRI4ChFull.xlsx): D:/ML_data/PAH/regMRI4ChFull.xlsx\n"
     ]
    },
    {
     "data": {
      "application/vnd.jupyter.widget-view+json": {
       "model_id": "8eebe326fc8b4ffa8f22ba4022a80362",
       "version_major": 2,
       "version_minor": 0
      },
      "text/plain": [
       "interactive(children=(Dropdown(description='Database', options=(('Four chamber (2)', 2), ('Short axis (17)', 1…"
      ]
     },
     "metadata": {},
     "output_type": "display_data"
    },
    {
     "data": {
      "text/plain": [
       "<function __main__.disp_mark(db, data_path, regf_path, sub, slice_)>"
      ]
     },
     "execution_count": 43,
     "metadata": {},
     "output_type": "execute_result"
    }
   ],
   "source": [
    "from ipywidgets import interact_manual\n",
    "import ipywidgets as widgets\n",
    "\n",
    "interact_manual(disp_mark, db=widgets.Dropdown(\n",
    "    options=[('Four chamber (2)', 2), ('Short axis (17)',17)],\n",
    "    value=2,\n",
    "    description='Database',\n",
    "    disabled=False,), \n",
    "                data_path = input('Data full path (e.g. D:/ML_data/PAH/PAH1DB2.npy): '), \n",
    "                regf_path = input('Registration file full path (e.g. D:/ML_data/PAH/regMRI4ChFull.xlsx): '), \n",
    "                sub=widgets.IntText(\n",
    "                    value=1005,\n",
    "                    description='Subject ID (e.g. 1005):',\n",
    "                    disabled=False),\n",
    "                slice_=widgets.IntSlider(\n",
    "                    value=0,\n",
    "                    min=0,\n",
    "                    max=19,\n",
    "                    step=1,\n",
    "                    description='Slice (time point, 0-19):',\n",
    "                    disabled=False,\n",
    "                    continuous_update=True,\n",
    "                    orientation='horizontal',\n",
    "                    readout=True,\n",
    "                    readout_format='d'), \n",
    "               )"
   ]
  },
  {
   "cell_type": "markdown",
   "metadata": {},
   "source": [
    "### Interactive Marking (Get coords manually)"
   ]
  },
  {
   "cell_type": "code",
   "execution_count": 45,
   "metadata": {},
   "outputs": [],
   "source": [
    "def onclick(event):\n",
    "    global ix, iy\n",
    "    ix, iy = event.xdata, event.ydata\n",
    "#     print('%s click: button=%d, x=%d, y=%d, xdata=%f, ydata=%f' %\n",
    "#           ('double' if event.dblclick else 'single', event.button,\n",
    "#            event.x, event.y, event.xdata, event.ydata))\n",
    "    print('%s click: button=%d, x=%f, y=%f' %\n",
    "          ('double' if event.dblclick else 'single', \n",
    "           event.button, event.xdata, event.ydata))    \n",
    "#     ax = fig.add_subplot(111)\n",
    "    ax.plot(ix,iy, marker='o', markersize=8, markerfacecolor=(1, 1, 1, 0.1),markeredgewidth=1.5, markeredgecolor='r')\n",
    "    canvas.draw()\n",
    "\n",
    "    global coords\n",
    "    coords.append((ix, iy))\n",
    "\n",
    "#     if len(coords) == 2:\n",
    "#         fig.canvas.mpl_disconnect(cid)\n",
    "\n",
    "    return coords\n",
    "\n",
    "\n",
    "def _quit():\n",
    "    root.quit()     # stops mainloop\n",
    "    root.destroy()  # this is necessary on Windows to prevent\n",
    "                    # Fatal Python Error: PyEval_RestoreThread: NULL tstate\n",
    "\n",
    "\n",
    "def hand_mark(db, data_path, regf_path, sub, slice_):\n",
    "    sub_img, land_marks = sub_img_mark(db, data_path, regf_path, sub, slice_)\n",
    "    global root, fig, im, ax, canvas, coords\n",
    "    root = tkinter.Tk()\n",
    "    root.wm_title(\"Subject %s Slice %s\" % (sub, slice_))\n",
    "\n",
    "    # fig = Figure(figsize=(5, 4), dpi=100)\n",
    "    # t = np.arange(0, 3, .01)\n",
    "    # fig.add_subplot(111).plot(t, 2 * np.sin(2 * np.pi * t))\n",
    "\n",
    "#     root.image = plt.imread('index.png')\n",
    "#     root.image = plt.imshow(sub_img, cmap='gray', vmin=0, vmax=255)\n",
    "    root.image = sub_img\n",
    "    fig = plt.figure(figsize=(8, 5))\n",
    "    ax = fig.add_subplot(111)\n",
    "    im = ax.imshow(root.image)\n",
    "\n",
    "    canvas = FigureCanvasTkAgg(fig, master=root)  # A tk.DrawingArea.\n",
    "    canvas.draw()\n",
    "    canvas.get_tk_widget().pack(side=tkinter.TOP, fill=tkinter.BOTH, expand=1)\n",
    "\n",
    "    toolbar = NavigationToolbar2Tk(canvas, root)\n",
    "    toolbar.update()\n",
    "    canvas.get_tk_widget().pack(side=tkinter.TOP, fill=tkinter.BOTH, expand=1)\n",
    "\n",
    "    coords = []\n",
    "    \n",
    "    cid = fig.canvas.mpl_connect('button_press_event', onclick)\n",
    "\n",
    "    button = tkinter.Button(master=root, text=\"Quit\", command=_quit)\n",
    "    button.pack(side=tkinter.TOP)\n",
    "\n",
    "    tkinter.mainloop()"
   ]
  },
  {
   "cell_type": "code",
   "execution_count": 47,
   "metadata": {},
   "outputs": [
    {
     "name": "stdout",
     "output_type": "stream",
     "text": [
      "Data full path (e.g. D:/ML_data/PAH/PAH1DB2.npy): D:/ML_data/PAH/PAH1DB2.npy\n",
      "Registration file full path (e.g. D:/ML_data/PAH/regMRI4ChFull.xlsx): D:/ML_data/PAH/regMRI4ChFull.xlsx\n"
     ]
    },
    {
     "data": {
      "application/vnd.jupyter.widget-view+json": {
       "model_id": "c56f62dde68f49ca9fdeed10a59e1d1a",
       "version_major": 2,
       "version_minor": 0
      },
      "text/plain": [
       "interactive(children=(Dropdown(description='Database', options=(('Four chamber (2)', 2), ('Short axis (17)', 1…"
      ]
     },
     "metadata": {},
     "output_type": "display_data"
    },
    {
     "data": {
      "text/plain": [
       "<function __main__.hand_mark(db, data_path, regf_path, sub, slice_)>"
      ]
     },
     "execution_count": 47,
     "metadata": {},
     "output_type": "execute_result"
    }
   ],
   "source": [
    "from ipywidgets import interact_manual\n",
    "import ipywidgets as widgets\n",
    "\n",
    "interact_manual(hand_mark, db=widgets.Dropdown(\n",
    "    options=[('Four chamber (2)', 2), ('Short axis (17)',17)],\n",
    "    value=2,\n",
    "    description='Database',\n",
    "    disabled=False,), \n",
    "                data_path = input('Data full path (e.g. D:/ML_data/PAH/PAH1DB2.npy): '), \n",
    "                regf_path = input('Registration file full path (e.g. D:/ML_data/PAH/regMRI4ChFull.xlsx): '), \n",
    "                sub=widgets.IntText(\n",
    "                    value=1005,\n",
    "                    description='Subject ID (e.g. 1005):',\n",
    "                    disabled=False),\n",
    "                slice_=widgets.IntSlider(\n",
    "                    value=0,\n",
    "                    min=0,\n",
    "                    max=19,\n",
    "                    step=1,\n",
    "                    description='Slice (time point, 0-19):',\n",
    "                    disabled=False,\n",
    "                    continuous_update=True,\n",
    "                    orientation='horizontal',\n",
    "                    readout=True,\n",
    "                    readout_format='d'), \n",
    "        )"
   ]
  },
  {
   "cell_type": "markdown",
   "metadata": {},
   "source": [
    "### Update coords and save to file"
   ]
  },
  {
   "cell_type": "code",
   "execution_count": 48,
   "metadata": {},
   "outputs": [],
   "source": [
    "def update_coords(db, regf_path, sub, mark_names, mark_values, out_dir):\n",
    "    mark_names = mark_names.split(',')\n",
    "    mark_values = mark_values.split(',')\n",
    "    n_marks = len(mark_names)\n",
    "    check_dir(out_dir)\n",
    "    if n_marks == len(mark_values):   \n",
    "        reg_df = load_landmark(regf_path, db)\n",
    "        sub_idx = np.where(reg_df['ID'] == sub)[0][0]\n",
    "        for i in range(len(mark_names)):\n",
    "            reg_df.loc[sub_idx, mark_names[i]] = int(mark_values[i])\n",
    "        out_fname = 'new_regDB%s.csv' % db\n",
    "        reg_df.to_csv(os.path.join(out_dir, out_fname))\n",
    "        print('Completed, new landmark file %s saved to %s' % (out_fname, out_dir))\n",
    "    else:\n",
    "        print('Number of landmark names and values are not consistant!!')\n",
    "        sys.exit()"
   ]
  },
  {
   "cell_type": "code",
   "execution_count": 49,
   "metadata": {},
   "outputs": [
    {
     "name": "stdout",
     "output_type": "stream",
     "text": [
      "Registration file full path (e.g. D:/ML_data/PAH/regMRI4ChFull.xlsx): D:/ML_data/PAH/regMRI4ChFull.xlsx\n",
      "Landmark Names (separate by comma, e.g. Spinal X,Spinal Y): Spinal X,Spinal Y\n",
      "New landmark values (separate by comma): 10, 10\n",
      "Where to save the output (e.g. D:/ML_data/PAH/DB2): D:/ML_data/PAH/DB2\n"
     ]
    },
    {
     "data": {
      "application/vnd.jupyter.widget-view+json": {
       "model_id": "80c65faab2984864bc617243e0ae76a8",
       "version_major": 2,
       "version_minor": 0
      },
      "text/plain": [
       "interactive(children=(Dropdown(description='Database', options=(('Four chamber (2)', 2), ('Short axis (17)', 1…"
      ]
     },
     "metadata": {},
     "output_type": "display_data"
    },
    {
     "data": {
      "text/plain": [
       "<function __main__.update_coords(db, regf_path, sub, mark_names, mark_values, out_dir)>"
      ]
     },
     "execution_count": 49,
     "metadata": {},
     "output_type": "execute_result"
    }
   ],
   "source": [
    "from ipywidgets import interact_manual\n",
    "import ipywidgets as widgets\n",
    "\n",
    "interact_manual(update_coords, db=widgets.Dropdown(\n",
    "    options=[('Four chamber (2)', 2), ('Short axis (17)',17)],\n",
    "    value=2,\n",
    "    description='Database',\n",
    "    disabled=False,), \n",
    "                regf_path = input('Registration file full path (e.g. D:/ML_data/PAH/regMRI4ChFull.xlsx): '), \n",
    "                sub=widgets.IntText(\n",
    "                    value=1005,\n",
    "                    description='Subject ID (e.g. 1005):',\n",
    "                    disabled=False),\n",
    "                mark_names=input('Landmark Names (separate by comma, e.g. Spinal X,Spinal Y): '),\n",
    "                mark_values=input('New landmark values (separate by comma): '),\n",
    "                out_dir = input('Where to save the output (e.g. D:/ML_data/PAH/DB2): '),\n",
    "        )"
   ]
  }
 ],
 "metadata": {
  "kernelspec": {
   "display_name": "Python 3",
   "language": "python",
   "name": "python3"
  },
  "language_info": {
   "codemirror_mode": {
    "name": "ipython",
    "version": 3
   },
   "file_extension": ".py",
   "mimetype": "text/x-python",
   "name": "python",
   "nbconvert_exporter": "python",
   "pygments_lexer": "ipython3",
   "version": "3.7.3"
  }
 },
 "nbformat": 4,
 "nbformat_minor": 4
}
